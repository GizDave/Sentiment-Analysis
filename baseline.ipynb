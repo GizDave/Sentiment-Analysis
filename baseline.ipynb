{
 "cells": [
  {
   "cell_type": "code",
   "execution_count": 26,
   "metadata": {},
   "outputs": [],
   "source": [
    "import torch.utils.data as utils\n",
    "import torch\n",
    "import torch.nn as nn\n",
    "import torch.optim as optim\n",
    "import torchvision.transforms as transforms\n",
    "\n",
    "import pandas as pd"
   ]
  },
  {
   "cell_type": "code",
   "execution_count": 27,
   "metadata": {},
   "outputs": [],
   "source": [
    "class TweetDataset(utils.Dataset):\n",
    "    def __init__(self, path='Tweets.csv'):\n",
    "        data = pd.read_csv(path)\n",
    "        self.txt = data.Tweets.to_list()\n",
    "        self.lbl = data.Labels.to_list()\n",
    "        \n",
    "    def __getitem__(self, index):\n",
    "        #supporting fetching a data sample for a given key\n",
    "        return self.txt[index], self.lbl[index]\n",
    "    \n",
    "    def __len__(self):\n",
    "        #return the size of the dataset\n",
    "        return len(self.txt)"
   ]
  },
  {
   "cell_type": "code",
   "execution_count": 29,
   "metadata": {},
   "outputs": [],
   "source": [
    "class net(nn.Module):\n",
    "    def __init__(self, transformer):\n",
    "        super(net, self).__init__()\n",
    "        self.transformer = transformer\n",
    "        self.linear = nn.Linear(in_features=..., out_features=2, bias=True)\n",
    "        \n",
    "    def forward(self, x):\n",
    "        x_hat = self.transformer(x)\n",
    "        y = self.linear(x_hat)\n",
    "        return y"
   ]
  },
  {
   "cell_type": "code",
   "execution_count": 28,
   "metadata": {},
   "outputs": [],
   "source": [
    "dataset = TweetDataset()"
   ]
  },
  {
   "cell_type": "code",
   "execution_count": null,
   "metadata": {},
   "outputs": [],
   "source": [
    "# model creation\n",
    "Bert = ...\n",
    "Roberta = ...\n",
    "XLNet = ..."
   ]
  },
  {
   "cell_type": "code",
   "execution_count": null,
   "metadata": {},
   "outputs": [],
   "source": [
    "# training and evaluation\n",
    "..."
   ]
  }
 ],
 "metadata": {
  "kernelspec": {
   "display_name": "Python 3",
   "language": "python",
   "name": "python3"
  },
  "language_info": {
   "codemirror_mode": {
    "name": "ipython",
    "version": 3
   },
   "file_extension": ".py",
   "mimetype": "text/x-python",
   "name": "python",
   "nbconvert_exporter": "python",
   "pygments_lexer": "ipython3",
   "version": "3.7.3"
  }
 },
 "nbformat": 4,
 "nbformat_minor": 4
}

{
 "cells": [
  {
   "cell_type": "code",
   "execution_count": 1,
   "metadata": {},
   "outputs": [],
   "source": [
    "import os\n",
    "from glob import glob\n",
    "import pandas as pd"
   ]
  },
  {
   "cell_type": "code",
   "execution_count": 2,
   "metadata": {},
   "outputs": [],
   "source": [
    "lbl_index = {\n",
    "    'positive': 'positive',\n",
    "    'neutral': 'neutral',\n",
    "    'negative': 'negative'\n",
    "}\n",
    "\n",
    "dataset = {\n",
    "    'positive': pd.DataFrame(columns=['positive_tweets']),\n",
    "    'neutral': pd.DataFrame(columns=['neutral_tweets']),\n",
    "    'negative': pd.DataFrame(columns=['negative_tweets'])\n",
    "}"
   ]
  },
  {
   "cell_type": "markdown",
   "metadata": {},
   "source": [
    "**Process Data**"
   ]
  },
  {
   "cell_type": "code",
   "execution_count": 3,
   "metadata": {},
   "outputs": [],
   "source": [
    "# https://www.kaggle.com/shashank1558/preprocessed-twitter-tweets\n",
    "path1 = '../datasets/preprocessed-twitter-tweets'\n",
    "\n",
    "cache = pd.read_csv('{}\\\\processedPositive.csv'.format(path1)).transpose().reset_index()\n",
    "cache.columns = ['positive_tweets']\n",
    "dataset['positive'] = dataset['positive'].append(cache, ignore_index=True, sort=False)\n",
    "\n",
    "cache = pd.read_csv('{}\\\\processedNeutral.csv'.format(path1)).transpose().reset_index()\n",
    "cache.columns = ['neutral_tweets']\n",
    "dataset['neutral'] = dataset['neutral'].append(cache, ignore_index=True, sort=False)\n",
    "\n",
    "cache = pd.read_csv('{}\\\\processedNegative.csv'.format(path1)).transpose().reset_index()\n",
    "cache.columns = ['negative_tweets']\n",
    "dataset['negative'] = dataset['negative'].append(cache, ignore_index=True, sort=False)"
   ]
  },
  {
   "cell_type": "code",
   "execution_count": 4,
   "metadata": {},
   "outputs": [],
   "source": [
    "# https://www.kaggle.com/c/twitter-sentiment-analysis2/overview\n",
    "lbl_map = {\n",
    "    'negative': 0,\n",
    "    'positive': 1\n",
    "}\n",
    "path2 = '../datasets/twitter-sentiment-analysis2'\n",
    "\n",
    "cache = pd.read_csv('{}/train.csv'.format(path2), encoding = \"ISO-8859-1\").drop(columns=['ItemID'])\n",
    "dataset['positive'] = dataset['positive']['positive_tweets'].append(cache[cache.Sentiment==lbl_map['positive']].SentimentText, ignore_index=True).to_frame()\n",
    "dataset['negative'] = dataset['negative']['negative_tweets'].append(cache[cache.Sentiment==lbl_map['negative']].SentimentText, ignore_index=True).to_frame()"
   ]
  },
  {
   "cell_type": "code",
   "execution_count": 5,
   "metadata": {},
   "outputs": [],
   "source": [
    "# https://data.world/crowdflower/weather-sentiment\n",
    "lbl_map = {\n",
    "    'negative': 'Positive',\n",
    "    'positive': 'Negative',\n",
    "    'neutral': 'Neutral / author is just sharing information'\n",
    "}\n",
    "path3 = '../datasets'\n",
    "\n",
    "cache = pd.read_csv('{}/weather-agg-DFE.csv'.format(path3))[['what_emotion_does_the_author_express_specifically_about_the_weather', 'tweet_text']]\n",
    "cache = cache.rename(columns={'what_emotion_does_the_author_express_specifically_about_the_weather': 'Sentiment'})\n",
    "cache = cache[~cache['Sentiment'].isin(['Tweet not related to weather condition', \"I can't tell\"])]\n",
    "dataset['positive'] = dataset['positive'][0].append(cache[cache.Sentiment==lbl_map['positive']].tweet_text, ignore_index=True).to_frame()\n",
    "dataset['negative'] = dataset['negative'][0].append(cache[cache.Sentiment==lbl_map['negative']].tweet_text, ignore_index=True).to_frame()\n",
    "dataset['neutral'] = dataset['neutral']['neutral_tweets'].append(cache[cache.Sentiment==lbl_map['neutral']].tweet_text, ignore_index=True).to_frame()"
   ]
  },
  {
   "cell_type": "code",
   "execution_count": 6,
   "metadata": {},
   "outputs": [
    {
     "name": "stdout",
     "output_type": "stream",
     "text": [
      "positive (57914, 1)\n",
      "neutral (1831, 1)\n",
      "negative (44880, 1)\n"
     ]
    }
   ],
   "source": [
    "for k in dataset.keys():\n",
    "    print(k, dataset[k].shape)"
   ]
  },
  {
   "cell_type": "markdown",
   "metadata": {},
   "source": [
    "**Export Data**"
   ]
  },
  {
   "cell_type": "code",
   "execution_count": 7,
   "metadata": {},
   "outputs": [],
   "source": [
    "for k in dataset.keys():\n",
    "    dataset[k].to_csv('{}Tweets.csv'.format(k))\n",
    "    dataset[k].columns = ['Tweets']\n",
    "    dataset[k]['Labels'] = [lbl_index[k]]*dataset[k].shape[0]\n",
    "\n",
    "pd.concat([dataset[k] for k in dataset.keys()]).to_csv('Tweets.csv')"
   ]
  }
 ],
 "metadata": {
  "kernelspec": {
   "display_name": "Python 3",
   "language": "python",
   "name": "python3"
  },
  "language_info": {
   "codemirror_mode": {
    "name": "ipython",
    "version": 3
   },
   "file_extension": ".py",
   "mimetype": "text/x-python",
   "name": "python",
   "nbconvert_exporter": "python",
   "pygments_lexer": "ipython3",
   "version": "3.7.3"
  }
 },
 "nbformat": 4,
 "nbformat_minor": 2
}

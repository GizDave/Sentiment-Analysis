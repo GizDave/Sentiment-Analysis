{
  "nbformat": 4,
  "nbformat_minor": 0,
  "metadata": {
    "colab": {
      "name": "cleaning.ipynb",
      "provenance": [],
      "collapsed_sections": [],
      "authorship_tag": "ABX9TyO6j2e7qFXXYDByt50ajFse",
      "include_colab_link": true
    },
    "kernelspec": {
      "name": "python3",
      "display_name": "Python 3"
    }
  },
  "cells": [
    {
      "cell_type": "markdown",
      "metadata": {
        "id": "view-in-github",
        "colab_type": "text"
      },
      "source": [
        "<a href=\"https://colab.research.google.com/github/GizDave/Twitter-Sentiment-Analysis/blob/master/cleaning.ipynb\" target=\"_parent\"><img src=\"https://colab.research.google.com/assets/colab-badge.svg\" alt=\"Open In Colab\"/></a>"
      ]
    },
    {
      "cell_type": "code",
      "metadata": {
        "id": "XyhI2mfYGFup",
        "colab_type": "code",
        "colab": {}
      },
      "source": [
        "import pandas as pd\n",
        "from google.colab import drive\n",
        "import re\n",
        "import numpy as np"
      ],
      "execution_count": 0,
      "outputs": []
    },
    {
      "cell_type": "code",
      "metadata": {
        "id": "EPiDeAkvJ_ct",
        "colab_type": "code",
        "outputId": "d2acd9d3-42db-4f8e-dfdc-f333fdefcaac",
        "colab": {
          "base_uri": "https://localhost:8080/",
          "height": 35
        }
      },
      "source": [
        "drive.mount('/content/gdrive/')"
      ],
      "execution_count": 7,
      "outputs": [
        {
          "output_type": "stream",
          "text": [
            "Drive already mounted at /content/gdrive/; to attempt to forcibly remount, call drive.mount(\"/content/gdrive/\", force_remount=True).\n"
          ],
          "name": "stdout"
        }
      ]
    },
    {
      "cell_type": "markdown",
      "metadata": {
        "id": "ekrag3pA6sIh",
        "colab_type": "text"
      },
      "source": [
        "**Cleaning**"
      ]
    },
    {
      "cell_type": "code",
      "metadata": {
        "id": "_P6WPrTJfwHj",
        "colab_type": "code",
        "colab": {}
      },
      "source": [
        "# original Tweets.csv\n",
        "path = '/content/gdrive/My Drive/Colab Notebooks/Tweets.csv'\n",
        "dataset = pd.read_csv(path, index_col=0, engine='python')\n",
        "dataset.Tweets = dataset.Tweets.astype(str)"
      ],
      "execution_count": 0,
      "outputs": []
    },
    {
      "cell_type": "code",
      "metadata": {
        "id": "zXXHL-yrAcIP",
        "colab_type": "code",
        "colab": {}
      },
      "source": [
        "# encoding for emoticons\n",
        "emo = pd.read_excel('/content/gdrive/My Drive/Colab Notebooks/WestermEmoticons.xlsx')\n",
        "emo_encoding = {re.escape(key): ' {} '.format(val) for key, val in zip(emo.Emoticons, emo.Encoding)}"
      ],
      "execution_count": 0,
      "outputs": []
    },
    {
      "cell_type": "code",
      "metadata": {
        "id": "hAHVuEF67X8K",
        "colab_type": "code",
        "colab": {}
      },
      "source": [
        "# Lower case text conversion\n",
        "dataset.Tweets = dataset.Tweets.str.lower()\n",
        "# Remove URLs\n",
        "dataset.Tweets = dataset.Tweets.apply(lambda x: re.sub(r\"http\\S+\", \"\", x))\n",
        "# Remove references of other users (dataset does not keep track of conversation between users)\n",
        "dataset.Tweets = dataset.Tweets.apply(lambda x: re.sub(r\"(((@|#).+(?=\\s)))\", \"\", x))\n",
        "# Encode emoticons\n",
        "dataset.Tweets = dataset.Tweets.replace(emo_encoding, regex=True)\n",
        "# Remove numbers\n",
        "dataset.Tweets = dataset.Tweets.str.replace('\\d+', '')\n",
        "# Remove remaining punctuations\n",
        "dataset.Tweets = dataset.Tweets.str.replace('[^\\w\\s]','')\n",
        "# Trim the spaces around strings\n",
        "dataset.Tweets = dataset.Tweets.str.strip()\n",
        "# Drop empty tweets\n",
        "dataset.Tweets = dataset.Tweets.replace('', np.nan)\n",
        "dataset = dataset.dropna(subset=['Tweets'])"
      ],
      "execution_count": 0,
      "outputs": []
    },
    {
      "cell_type": "code",
      "metadata": {
        "id": "T1y-TXdq7jFN",
        "colab_type": "code",
        "colab": {}
      },
      "source": [
        "dataset.to_csv('/content/gdrive/My Drive/Colab Notebooks/CleanTweets_emo.csv')"
      ],
      "execution_count": 0,
      "outputs": []
    },
    {
      "cell_type": "code",
      "metadata": {
        "id": "DFjwV10lOHmk",
        "colab_type": "code",
        "colab": {}
      },
      "source": [
        ""
      ],
      "execution_count": 0,
      "outputs": []
    }
  ]
}